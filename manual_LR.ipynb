{
 "cells": [
  {
   "cell_type": "markdown",
   "id": "9d58d115-da64-41b0-a404-d11dda837f50",
   "metadata": {},
   "source": [
    "# Self made linear regression model"
   ]
  },
  {
   "cell_type": "markdown",
   "id": "5241a3bf-2cfc-450c-b2df-b0f6d237ea9b",
   "metadata": {},
   "source": [
    "* * USING NORMAL EQUATION"
   ]
  },
  {
   "cell_type": "code",
   "execution_count": 1,
   "id": "0f458c3f-9c5f-4639-842e-62bd2fc3a05d",
   "metadata": {},
   "outputs": [],
   "source": [
    "import numpy as np"
   ]
  },
  {
   "cell_type": "code",
   "execution_count": 2,
   "id": "719ed3e5-f1de-4acd-bb4d-edb6d7602438",
   "metadata": {},
   "outputs": [],
   "source": [
    "X=np.random.rand(100,1)\n",
    "y=4 + 3*X + np.random.randn(100,1)"
   ]
  },
  {
   "cell_type": "markdown",
   "id": "9ff46b81-c6b5-4646-a89d-17b162c7ff2c",
   "metadata": {},
   "source": [
    "* np.random.rand(100, 1) creates 100 random numbers between 0 and 1 as input features (X)\n",
    "* np.random.randn(100, 1) adds some noise (random variation) to make it look like real-world data  (values around 0 are more likely)."
   ]
  },
  {
   "cell_type": "code",
   "execution_count": 3,
   "id": "704eac1e-7ac9-409f-90d6-f1ddc6280cb5",
   "metadata": {},
   "outputs": [],
   "source": [
    "x_b=np.c_[np.ones((100,1)),X]"
   ]
  },
  {
   "cell_type": "markdown",
   "id": "c0ef8e54-2158-4bab-b19e-1ca8d6be4853",
   "metadata": {},
   "source": [
    "* np.ones((100, 1)) creates a column of 1s.\n",
    "\n",
    "* np.c_[] combines two arrays column-wise."
   ]
  },
  {
   "cell_type": "code",
   "execution_count": 4,
   "id": "b13a7993-3dea-4415-80ec-c959034daf57",
   "metadata": {},
   "outputs": [],
   "source": [
    "theta_best=np.linalg.inv(x_b.T.dot(x_b)).dot(x_b.T).dot(y)"
   ]
  },
  {
   "cell_type": "markdown",
   "id": "0329c50a-33b1-4239-8da0-4f9a64763b93",
   "metadata": {},
   "source": [
    "* X_b.T = Transpose of X_b (rows → columns)\n",
    "\n",
    "* X_b.T.dot(X_b) = Matrix multiplication of X_b^T and X_b\n",
    "\n",
    "* np.linalg.inv(...) = Inverse of that matrix\n",
    "\n",
    "* Finally, .dot(X_b.T).dot(y) multiplies all of it with y \n",
    "\n",
    "  {multiplying inverse of XT.X with XT.y to get solution}"
   ]
  },
  {
   "cell_type": "code",
   "execution_count": 5,
   "id": "7ab18c50-a130-44f5-a80b-06792d8a0ad6",
   "metadata": {},
   "outputs": [],
   "source": [
    "X_new = np.array([[0], [1]])\n",
    "X_new_b = np.c_[np.ones((2, 1)), X_new]\n",
    "y_predict = X_new_b.dot(theta_best)"
   ]
  },
  {
   "cell_type": "code",
   "execution_count": 6,
   "id": "23102a0c-550b-48eb-9b8c-d8bdcd4f80ab",
   "metadata": {},
   "outputs": [
    {
     "data": {
      "image/png": "[encoded data removed]",
      "text/plain": [
       "<Figure size 640x480 with 1 Axes>"
      ]
     },
     "metadata": {},
     "output_type": "display_data"
    }
   ],
   "source": [
    "import matplotlib.pyplot as plt\n",
    "\n",
    "plt.plot(X_new, y_predict, \"r-\")    # predicted line in red\n",
    "plt.plot(X, y, \"b.\")                # actual data points in blue\n",
    "plt.show()\n"
   ]
  },
  {
   "cell_type": "code",
   "execution_count": null,
   "id": "179b0c44-2b2b-4ef3-833a-494a6eac44c9",
   "metadata": {},
   "outputs": [],
   "source": []
  }
 ],
 "metadata": {
  "kernelspec": {
   "display_name": "Python 3 (ipykernel)",
   "language": "python",
   "name": "python3"
  },
  "language_info": {
   "codemirror_mode": {
    "name": "ipython",
    "version": 3
   },
   "file_extension": ".py",
   "mimetype": "text/x-python",
   "name": "python",
   "nbconvert_exporter": "python",
   "pygments_lexer": "ipython3",
   "version": "3.12.6"
  }
 },
 "nbformat": 4,
 "nbformat_minor": 5
}
