{
 "cells": [
  {
   "cell_type": "markdown",
   "id": "16b478f4-5aef-4411-8310-8eef7eba5485",
   "metadata": {},
   "source": [
    "# Self made Linear regression using gradient descent "
   ]
  },
  {
   "cell_type": "code",
   "execution_count": 2,
   "id": "a99f442e-a38f-4538-92e9-b647953fbea8",
   "metadata": {},
   "outputs": [],
   "source": [
    "import numpy as np\n",
    "import matplotlib.pyplot as plt\n",
    "import pandas as pd"
   ]
  },
  {
   "cell_type": "code",
   "execution_count": 3,
   "id": "aeb113f0-8224-41cd-8f92-494f319f9cf9",
   "metadata": {},
   "outputs": [],
   "source": [
    "np.random.seed(42)\n",
    "X = 2 * np.random.rand(100, 1)\n",
    "y = 4 + 3 * X + np.random.randn(100, 1)"
   ]
  },
  {
   "cell_type": "markdown",
   "id": "c439de67-086c-4681-91ea-d75f4bf5ccf0",
   "metadata": {},
   "source": [
    "* seed makes the following random commands to generate same set of random numbers everytime they are executed\n",
    "*  2*np.random.rand(100, 1) → generates 100 random values between 0 and 2.\n",
    "* y = 4 + 3 * X + np.random.randn ,generates target values y using the formula y = 4 + 3x + noise"
   ]
  },
  {
   "cell_type": "code",
   "execution_count": 4,
   "id": "5ba64040-e232-4572-99e4-28cea2dca30e",
   "metadata": {},
   "outputs": [],
   "source": [
    "X_mean = X.mean()\n",
    "X_std = X.std()\n",
    "X_scaled = (X - X_mean) / X_std"
   ]
  },
  {
   "cell_type": "markdown",
   "id": "ed4f7ab9-c0d8-4f97-be30-f8aabf38c688",
   "metadata": {},
   "source": [
    "* * STANDARDIZING below for one feature\n",
    "  * With scaling:\n",
    "  * All features contribute equally.\n",
    "  * Faster and more stable convergence."
   ]
  },
  {
   "cell_type": "code",
   "execution_count": 5,
   "id": "d9b273a4-d301-49b8-86b1-1cce56204708",
   "metadata": {},
   "outputs": [],
   "source": [
    "X_b = np.c_[np.ones((X_scaled.shape[0], 1)), X_scaled]"
   ]
  },
  {
   "cell_type": "markdown",
   "id": "00db1b7f-82b8-469d-bdaa-c5662e9fd22a",
   "metadata": {},
   "source": [
    "* adding bias term"
   ]
  },
  {
   "cell_type": "code",
   "execution_count": 6,
   "id": "46aba45c-9b04-4abc-b7c2-713c00d28465",
   "metadata": {},
   "outputs": [],
   "source": [
    "df=pd.DataFrame(X_b)"
   ]
  },
  {
   "cell_type": "code",
   "execution_count": 7,
   "id": "fa997133-fa82-4d9b-9d7c-8462ae24ba88",
   "metadata": {},
   "outputs": [
    {
     "data": {
      "text/html": [
       "<div>\n",
       "<style scoped>\n",
       "    .dataframe tbody tr th:only-of-type {\n",
       "        vertical-align: middle;\n",
       "    }\n",
       "\n",
       "    .dataframe tbody tr th {\n",
       "        vertical-align: top;\n",
       "    }\n",
       "\n",
       "    .dataframe thead th {\n",
       "        text-align: right;\n",
       "    }\n",
       "</style>\n",
       "<table border=\"1\" class=\"dataframe\">\n",
       "  <thead>\n",
       "    <tr style=\"text-align: right;\">\n",
       "      <th></th>\n",
       "      <th>0</th>\n",
       "      <th>1</th>\n",
       "    </tr>\n",
       "  </thead>\n",
       "  <tbody>\n",
       "    <tr>\n",
       "      <th>0</th>\n",
       "      <td>1.0</td>\n",
       "      <td>-0.323112</td>\n",
       "    </tr>\n",
       "    <tr>\n",
       "      <th>1</th>\n",
       "      <td>1.0</td>\n",
       "      <td>1.623434</td>\n",
       "    </tr>\n",
       "    <tr>\n",
       "      <th>2</th>\n",
       "      <td>1.0</td>\n",
       "      <td>0.884509</td>\n",
       "    </tr>\n",
       "    <tr>\n",
       "      <th>3</th>\n",
       "      <td>1.0</td>\n",
       "      <td>0.434049</td>\n",
       "    </tr>\n",
       "    <tr>\n",
       "      <th>4</th>\n",
       "      <td>1.0</td>\n",
       "      <td>-1.061365</td>\n",
       "    </tr>\n",
       "  </tbody>\n",
       "</table>\n",
       "</div>"
      ],
      "text/plain": [
       "     0         1\n",
       "0  1.0 -0.323112\n",
       "1  1.0  1.623434\n",
       "2  1.0  0.884509\n",
       "3  1.0  0.434049\n",
       "4  1.0 -1.061365"
      ]
     },
     "execution_count": 7,
     "metadata": {},
     "output_type": "execute_result"
    }
   ],
   "source": [
    "df.head()"
   ]
  },
  {
   "cell_type": "code",
   "execution_count": 8,
   "id": "457540ac-c20c-4906-9f70-3686d3eb4a58",
   "metadata": {},
   "outputs": [
    {
     "data": {
      "text/plain": [
       "(100, 2)"
      ]
     },
     "execution_count": 8,
     "metadata": {},
     "output_type": "execute_result"
    }
   ],
   "source": [
    "X_b.shape"
   ]
  },
  {
   "cell_type": "markdown",
   "id": "1fb65e54-1185-46a2-b214-e7da9aac75df",
   "metadata": {},
   "source": [
    "* np.ones((100, 1)) creates a column of 1s.\n",
    "\n",
    "* np.c_[] combines two arrays column-wise."
   ]
  },
  {
   "cell_type": "code",
   "execution_count": 9,
   "id": "1b063df7-4213-404c-b5ec-ab31abb29dc1",
   "metadata": {},
   "outputs": [],
   "source": [
    "theta = np.random.randn(2, 1)"
   ]
  },
  {
   "cell_type": "code",
   "execution_count": 10,
   "id": "b67d6bb8-24e6-4524-87f4-fa6976b4fa9a",
   "metadata": {},
   "outputs": [
    {
     "data": {
      "text/plain": [
       "array([[0.01300189],\n",
       "       [1.45353408]])"
      ]
     },
     "execution_count": 10,
     "metadata": {},
     "output_type": "execute_result"
    }
   ],
   "source": [
    "theta"
   ]
  },
  {
   "cell_type": "code",
   "execution_count": 11,
   "id": "ea628f0a-8d84-407a-8c60-0074571aa920",
   "metadata": {},
   "outputs": [
    {
     "data": {
      "text/plain": [
       "(2, 1)"
      ]
     },
     "execution_count": 11,
     "metadata": {},
     "output_type": "execute_result"
    }
   ],
   "source": [
    "theta.shape"
   ]
  },
  {
   "cell_type": "markdown",
   "id": "bc280951-cc73-4f54-bf70-6f4fa57ed843",
   "metadata": {},
   "source": [
    "* Initializes random weights to theta0 and theta1:\n",
    "\n",
    "* 2 values (for intercept and slope)\n",
    "\n",
    "* np.random.randn(2, 1) → gives random values from a normal distribution"
   ]
  },
  {
   "cell_type": "code",
   "execution_count": 12,
   "id": "734ed89f-1c20-4f68-b482-376f7aaeeab7",
   "metadata": {},
   "outputs": [],
   "source": [
    "learning_rate = 0.1\n",
    "n_iterations = 1000\n",
    "m = len(X_b) "
   ]
  },
  {
   "cell_type": "markdown",
   "id": "73ae7211-6008-4e3d-bc06-2edf85e22516",
   "metadata": {},
   "source": [
    "* `learning_rate` → controls how **big a step** we take when updating the weights\n",
    "`n_iterations` → how many times we update the weights\n",
    "`m` → number of training examples (100 in this case)"
   ]
  },
  {
   "cell_type": "code",
   "execution_count": 13,
   "id": "4a5e7948-6cbc-4355-8147-2f0884c9d36a",
   "metadata": {},
   "outputs": [
    {
     "data": {
      "text/plain": [
       "array([[-680.70022082],\n",
       "       [ -18.63632228]])"
      ]
     },
     "execution_count": 13,
     "metadata": {},
     "output_type": "execute_result"
    }
   ],
   "source": [
    "X_b.T.dot(X_b.dot(theta) - y)"
   ]
  },
  {
   "cell_type": "code",
   "execution_count": 14,
   "id": "e15b9fe2-9515-49fa-8961-94c60b4e421a",
   "metadata": {},
   "outputs": [
    {
     "data": {
      "text/plain": [
       "array([[-13.61400442],\n",
       "       [ -0.37272645]])"
      ]
     },
     "execution_count": 14,
     "metadata": {},
     "output_type": "execute_result"
    }
   ],
   "source": [
    "(2 / m) * X_b.T.dot(X_b.dot(theta) - y)"
   ]
  },
  {
   "cell_type": "code",
   "execution_count": 15,
   "id": "451525b4-5cda-4b77-9f09-4c23f86f78b0",
   "metadata": {},
   "outputs": [],
   "source": [
    "cost_history=[]"
   ]
  },
  {
   "cell_type": "code",
   "execution_count": 16,
   "id": "80a1366f-5c35-4dc1-981b-0dc089dacc1c",
   "metadata": {},
   "outputs": [
    {
     "name": "stdout",
     "output_type": "stream",
     "text": [
      "Learned parameters (theta):\n",
      "[[6.8200041]\n",
      " [1.6398973]]\n"
     ]
    }
   ],
   "source": [
    "for iteration in range(n_iterations):\n",
    "    y_pred = X_b.dot(theta)\n",
    "    error = y_pred - y\n",
    "    gradients = (2/m) * X_b.T.dot(error)\n",
    "    theta = theta - learning_rate * gradients\n",
    "    \n",
    "    # Cost\n",
    "    cost = (1/m) * np.sum(error ** 2)\n",
    "    cost_history.append(cost)\n",
    "\n",
    "print(\"Learned parameters (theta):\")\n",
    "print(theta)"
   ]
  },
  {
   "cell_type": "markdown",
   "id": "03a364d9-fa99-49b1-834b-2db673f7f46d",
   "metadata": {},
   "source": [
    "* gradients = (2 / m) * X_b.T.dot(X_b.dot(theta) - y)\n",
    "This line computes the gradient (slope of the cost function).\n",
    "* X_b.dot(theta) → gives predicted values\n",
    "* X_b.dot(theta) - y → difference between predicted and actual = error\n",
    "* X_b.T.dot(...) → combines all those errors across all samples\n",
    "* (2/m) → scales the gradient (standard in MSE gradient formula)\n",
    "* theta = theta - learning_rate * gradients  -> the weight updation formula using learning rate"
   ]
  },
  {
   "cell_type": "code",
   "execution_count": 17,
   "id": "5889c0e7-7094-4d9d-946b-dfc5fdc33e76",
   "metadata": {},
   "outputs": [],
   "source": [
    "X_new = np.array([[0], [2]])\n",
    "X_new_b = np.c_[np.ones((2, 1)), X_new]\n",
    "y_predict = X_new_b.dot(theta)"
   ]
  },
  {
   "cell_type": "markdown",
   "id": "ee088280-1362-4c7b-a6e7-e6696305293c",
   "metadata": {},
   "source": [
    "* `X_new` → two points to test: x = 0 and x = 2\n",
    "- Adds bias column (just like training)\n",
    "- Predicts `y` for those points using the learned `theta`\n",
    "  "
   ]
  },
  {
   "cell_type": "code",
   "execution_count": 18,
   "id": "31432552-b8e1-4c7e-9c15-737682b6f3cc",
   "metadata": {},
   "outputs": [
    {
     "name": "stdout",
     "output_type": "stream",
     "text": [
      "[[0]\n",
      " [2]]\n"
     ]
    }
   ],
   "source": [
    "print(X_new)"
   ]
  },
  {
   "cell_type": "code",
   "execution_count": 19,
   "id": "9233b388-cd24-41b2-9ba9-8ba9f01b2d79",
   "metadata": {},
   "outputs": [
    {
     "name": "stdout",
     "output_type": "stream",
     "text": [
      "[[1. 0.]\n",
      " [1. 2.]]\n"
     ]
    }
   ],
   "source": [
    "print(X_new_b)"
   ]
  },
  {
   "cell_type": "code",
   "execution_count": 20,
   "id": "f144c053-c5e5-4ce4-9873-261383e4b17a",
   "metadata": {},
   "outputs": [
    {
     "data": {
      "text/plain": [
       "np.float64(2.0)"
      ]
     },
     "execution_count": 20,
     "metadata": {},
     "output_type": "execute_result"
    }
   ],
   "source": [
    "X_new_b[1,1]"
   ]
  },
  {
   "cell_type": "code",
   "execution_count": 21,
   "id": "bd29956c-433c-4af0-b072-2462d3c14087",
   "metadata": {},
   "outputs": [
    {
     "name": "stdout",
     "output_type": "stream",
     "text": [
      "[[6.8200041]\n",
      " [1.6398973]]\n"
     ]
    }
   ],
   "source": [
    "print(theta)"
   ]
  },
  {
   "cell_type": "code",
   "execution_count": 22,
   "id": "8f68c8ca-05ca-43be-a9fb-9700a7bbd85c",
   "metadata": {},
   "outputs": [
    {
     "data": {
      "text/plain": [
       "array([[ 6.8200041],\n",
       "       [10.0997987]])"
      ]
     },
     "execution_count": 22,
     "metadata": {},
     "output_type": "execute_result"
    }
   ],
   "source": [
    "y_predict"
   ]
  },
  {
   "cell_type": "code",
   "execution_count": 23,
   "id": "319e64d3-58dd-4f01-b788-5bb6e203e513",
   "metadata": {},
   "outputs": [
    {
     "data": {
      "image/png": "[encoded data removed]",
      "text/plain": [
       "<Figure size 640x480 with 1 Axes>"
      ]
     },
     "metadata": {},
     "output_type": "display_data"
    }
   ],
   "source": [
    "theta1_unscaled = theta[1][0] / X_std\n",
    "theta0_unscaled = theta[0][0] - (X_mean * theta[1][0]) / X_std\n",
    "\n",
    "# Predict using original X\n",
    "y_pred_original = theta0_unscaled + theta1_unscaled * X\n",
    "\n",
    "# Plot\n",
    "plt.plot(X, y_pred_original, color='red', label='Prediction (Unscaled)')\n",
    "plt.scatter(X, y, color='blue', label='Training Data')\n",
    "plt.xlabel(\"x (original)\")\n",
    "plt.ylabel(\"y\")\n",
    "plt.legend()\n",
    "plt.title(\"Linear Regression with Scaled Training\")\n",
    "plt.show()\n"
   ]
  },
  {
   "cell_type": "code",
   "execution_count": 24,
   "id": "3fcba57b-f612-4f01-bef7-cfd08b488d7f",
   "metadata": {},
   "outputs": [
    {
     "data": {
      "image/png": "[encoded data removed]",
      "text/plain": [
       "<Figure size 640x480 with 1 Axes>"
      ]
     },
     "metadata": {},
     "output_type": "display_data"
    }
   ],
   "source": [
    "# Plotting cost vs iteration\n",
    "plt.plot(range(n_iterations), cost_history)\n",
    "plt.xlabel(\"Iteration\")\n",
    "plt.ylabel(\"Cost (MSE)\")\n",
    "plt.title(\"Cost Reduction Over Iterations\")\n",
    "plt.grid(True)\n",
    "plt.show()"
   ]
  },
  {
   "cell_type": "markdown",
   "id": "539d122d-bfe7-4988-b046-3555001d7c9a",
   "metadata": {},
   "source": [
    "* A curve starting high and slowly going down\n",
    "* Eventually flattening — that’s when the model has learned enough\n",
    "* If the line goes up → something’s wrong"
   ]
  },
  {
   "cell_type": "code",
   "execution_count": 25,
   "id": "d2db64f5-2605-46ed-96f5-2940a9129261",
   "metadata": {},
   "outputs": [
    {
     "name": "stdout",
     "output_type": "stream",
     "text": [
      "0.8065845639670534\n",
      "0.7692735413614223\n"
     ]
    }
   ],
   "source": [
    "# Evaluation\n",
    "from sklearn.metrics import mean_squared_error, r2_score\n",
    "mse=mean_squared_error(y,y_pred_original)\n",
    "r2 = r2_score(y, y_pred_original)\n",
    "print(mse)\n",
    "print(r2)"
   ]
  },
  {
   "cell_type": "code",
   "execution_count": null,
   "id": "4d0c31d2",
   "metadata": {},
   "outputs": [],
   "source": []
  }
 ],
 "metadata": {
  "kernelspec": {
   "display_name": "Python 3",
   "language": "python",
   "name": "python3"
  },
  "language_info": {
   "codemirror_mode": {
    "name": "ipython",
    "version": 3
   },
   "file_extension": ".py",
   "mimetype": "text/x-python",
   "name": "python",
   "nbconvert_exporter": "python",
   "pygments_lexer": "ipython3",
   "version": "3.12.6"
  }
 },
 "nbformat": 4,
 "nbformat_minor": 5
}
